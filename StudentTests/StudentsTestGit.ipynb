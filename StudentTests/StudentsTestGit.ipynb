{
 "cells": [
  {
   "cell_type": "code",
   "execution_count": 7,
   "id": "fff275f9",
   "metadata": {},
   "outputs": [],
   "source": [
    "import numpy as np\n",
    "import pandas as pd\n",
    "import seaborn as sns\n",
    "import matplotlib.pyplot as plt\n",
    "import statsmodels.api as sm\n",
    "from statsmodels.formula.api import ols\n",
    "from statsmodels.stats.multicomp import pairwise_tukeyhsd"
   ]
  },
  {
   "cell_type": "code",
   "execution_count": 9,
   "id": "34937e85",
   "metadata": {},
   "outputs": [
    {
     "data": {
      "text/html": [
       "<div>\n",
       "<style scoped>\n",
       "    .dataframe tbody tr th:only-of-type {\n",
       "        vertical-align: middle;\n",
       "    }\n",
       "\n",
       "    .dataframe tbody tr th {\n",
       "        vertical-align: top;\n",
       "    }\n",
       "\n",
       "    .dataframe thead th {\n",
       "        text-align: right;\n",
       "    }\n",
       "</style>\n",
       "<table border=\"1\" class=\"dataframe\">\n",
       "  <thead>\n",
       "    <tr style=\"text-align: right;\">\n",
       "      <th></th>\n",
       "      <th>gender</th>\n",
       "      <th>income</th>\n",
       "      <th>parental_level_of_education</th>\n",
       "      <th>lunch</th>\n",
       "      <th>test_preparation_course</th>\n",
       "      <th>math_score</th>\n",
       "      <th>reading_score</th>\n",
       "      <th>writing_score</th>\n",
       "    </tr>\n",
       "  </thead>\n",
       "  <tbody>\n",
       "    <tr>\n",
       "      <th>0</th>\n",
       "      <td>female</td>\n",
       "      <td>group B</td>\n",
       "      <td>bachelor's degree</td>\n",
       "      <td>standard</td>\n",
       "      <td>none</td>\n",
       "      <td>72</td>\n",
       "      <td>72</td>\n",
       "      <td>74</td>\n",
       "    </tr>\n",
       "    <tr>\n",
       "      <th>1</th>\n",
       "      <td>female</td>\n",
       "      <td>group C</td>\n",
       "      <td>some college</td>\n",
       "      <td>standard</td>\n",
       "      <td>completed</td>\n",
       "      <td>69</td>\n",
       "      <td>90</td>\n",
       "      <td>88</td>\n",
       "    </tr>\n",
       "    <tr>\n",
       "      <th>2</th>\n",
       "      <td>female</td>\n",
       "      <td>group B</td>\n",
       "      <td>master's degree</td>\n",
       "      <td>standard</td>\n",
       "      <td>none</td>\n",
       "      <td>90</td>\n",
       "      <td>95</td>\n",
       "      <td>93</td>\n",
       "    </tr>\n",
       "    <tr>\n",
       "      <th>3</th>\n",
       "      <td>male</td>\n",
       "      <td>group A</td>\n",
       "      <td>associate's degree</td>\n",
       "      <td>free/reduced</td>\n",
       "      <td>none</td>\n",
       "      <td>47</td>\n",
       "      <td>57</td>\n",
       "      <td>44</td>\n",
       "    </tr>\n",
       "    <tr>\n",
       "      <th>4</th>\n",
       "      <td>male</td>\n",
       "      <td>group C</td>\n",
       "      <td>some college</td>\n",
       "      <td>standard</td>\n",
       "      <td>none</td>\n",
       "      <td>76</td>\n",
       "      <td>78</td>\n",
       "      <td>75</td>\n",
       "    </tr>\n",
       "  </tbody>\n",
       "</table>\n",
       "</div>"
      ],
      "text/plain": [
       "   gender   income parental_level_of_education         lunch  \\\n",
       "0  female  group B           bachelor's degree      standard   \n",
       "1  female  group C                some college      standard   \n",
       "2  female  group B             master's degree      standard   \n",
       "3    male  group A          associate's degree  free/reduced   \n",
       "4    male  group C                some college      standard   \n",
       "\n",
       "  test_preparation_course  math_score  reading_score  writing_score  \n",
       "0                    none          72             72             74  \n",
       "1               completed          69             90             88  \n",
       "2                    none          90             95             93  \n",
       "3                    none          47             57             44  \n",
       "4                    none          76             78             75  "
      ]
     },
     "execution_count": 9,
     "metadata": {},
     "output_type": "execute_result"
    }
   ],
   "source": [
    "df = pd.read_csv(\"StudentsPerformance.csv\")\n",
    "df.head()"
   ]
  },
  {
   "cell_type": "code",
   "execution_count": 11,
   "id": "1e1a99e8",
   "metadata": {},
   "outputs": [
    {
     "data": {
      "text/html": [
       "<div>\n",
       "<style scoped>\n",
       "    .dataframe tbody tr th:only-of-type {\n",
       "        vertical-align: middle;\n",
       "    }\n",
       "\n",
       "    .dataframe tbody tr th {\n",
       "        vertical-align: top;\n",
       "    }\n",
       "\n",
       "    .dataframe thead th {\n",
       "        text-align: right;\n",
       "    }\n",
       "</style>\n",
       "<table border=\"1\" class=\"dataframe\">\n",
       "  <thead>\n",
       "    <tr style=\"text-align: right;\">\n",
       "      <th></th>\n",
       "      <th>gender</th>\n",
       "      <th>income</th>\n",
       "      <th>parental_level_of_education</th>\n",
       "      <th>lunch</th>\n",
       "      <th>test_preparation_course</th>\n",
       "      <th>math_score</th>\n",
       "      <th>reading_score</th>\n",
       "      <th>writing_score</th>\n",
       "    </tr>\n",
       "  </thead>\n",
       "  <tbody>\n",
       "    <tr>\n",
       "      <th>count</th>\n",
       "      <td>1000</td>\n",
       "      <td>1000</td>\n",
       "      <td>1000</td>\n",
       "      <td>1000</td>\n",
       "      <td>1000</td>\n",
       "      <td>1000.00000</td>\n",
       "      <td>1000.000000</td>\n",
       "      <td>1000.000000</td>\n",
       "    </tr>\n",
       "    <tr>\n",
       "      <th>unique</th>\n",
       "      <td>2</td>\n",
       "      <td>5</td>\n",
       "      <td>6</td>\n",
       "      <td>2</td>\n",
       "      <td>2</td>\n",
       "      <td>NaN</td>\n",
       "      <td>NaN</td>\n",
       "      <td>NaN</td>\n",
       "    </tr>\n",
       "    <tr>\n",
       "      <th>top</th>\n",
       "      <td>female</td>\n",
       "      <td>group C</td>\n",
       "      <td>some college</td>\n",
       "      <td>standard</td>\n",
       "      <td>none</td>\n",
       "      <td>NaN</td>\n",
       "      <td>NaN</td>\n",
       "      <td>NaN</td>\n",
       "    </tr>\n",
       "    <tr>\n",
       "      <th>freq</th>\n",
       "      <td>518</td>\n",
       "      <td>319</td>\n",
       "      <td>226</td>\n",
       "      <td>645</td>\n",
       "      <td>642</td>\n",
       "      <td>NaN</td>\n",
       "      <td>NaN</td>\n",
       "      <td>NaN</td>\n",
       "    </tr>\n",
       "    <tr>\n",
       "      <th>mean</th>\n",
       "      <td>NaN</td>\n",
       "      <td>NaN</td>\n",
       "      <td>NaN</td>\n",
       "      <td>NaN</td>\n",
       "      <td>NaN</td>\n",
       "      <td>66.08900</td>\n",
       "      <td>69.169000</td>\n",
       "      <td>68.054000</td>\n",
       "    </tr>\n",
       "    <tr>\n",
       "      <th>std</th>\n",
       "      <td>NaN</td>\n",
       "      <td>NaN</td>\n",
       "      <td>NaN</td>\n",
       "      <td>NaN</td>\n",
       "      <td>NaN</td>\n",
       "      <td>15.16308</td>\n",
       "      <td>14.600192</td>\n",
       "      <td>15.195657</td>\n",
       "    </tr>\n",
       "    <tr>\n",
       "      <th>min</th>\n",
       "      <td>NaN</td>\n",
       "      <td>NaN</td>\n",
       "      <td>NaN</td>\n",
       "      <td>NaN</td>\n",
       "      <td>NaN</td>\n",
       "      <td>0.00000</td>\n",
       "      <td>17.000000</td>\n",
       "      <td>10.000000</td>\n",
       "    </tr>\n",
       "    <tr>\n",
       "      <th>25%</th>\n",
       "      <td>NaN</td>\n",
       "      <td>NaN</td>\n",
       "      <td>NaN</td>\n",
       "      <td>NaN</td>\n",
       "      <td>NaN</td>\n",
       "      <td>57.00000</td>\n",
       "      <td>59.000000</td>\n",
       "      <td>57.750000</td>\n",
       "    </tr>\n",
       "    <tr>\n",
       "      <th>50%</th>\n",
       "      <td>NaN</td>\n",
       "      <td>NaN</td>\n",
       "      <td>NaN</td>\n",
       "      <td>NaN</td>\n",
       "      <td>NaN</td>\n",
       "      <td>66.00000</td>\n",
       "      <td>70.000000</td>\n",
       "      <td>69.000000</td>\n",
       "    </tr>\n",
       "    <tr>\n",
       "      <th>75%</th>\n",
       "      <td>NaN</td>\n",
       "      <td>NaN</td>\n",
       "      <td>NaN</td>\n",
       "      <td>NaN</td>\n",
       "      <td>NaN</td>\n",
       "      <td>77.00000</td>\n",
       "      <td>79.000000</td>\n",
       "      <td>79.000000</td>\n",
       "    </tr>\n",
       "    <tr>\n",
       "      <th>max</th>\n",
       "      <td>NaN</td>\n",
       "      <td>NaN</td>\n",
       "      <td>NaN</td>\n",
       "      <td>NaN</td>\n",
       "      <td>NaN</td>\n",
       "      <td>100.00000</td>\n",
       "      <td>100.000000</td>\n",
       "      <td>100.000000</td>\n",
       "    </tr>\n",
       "  </tbody>\n",
       "</table>\n",
       "</div>"
      ],
      "text/plain": [
       "        gender   income parental_level_of_education     lunch  \\\n",
       "count     1000     1000                        1000      1000   \n",
       "unique       2        5                           6         2   \n",
       "top     female  group C                some college  standard   \n",
       "freq       518      319                         226       645   \n",
       "mean       NaN      NaN                         NaN       NaN   \n",
       "std        NaN      NaN                         NaN       NaN   \n",
       "min        NaN      NaN                         NaN       NaN   \n",
       "25%        NaN      NaN                         NaN       NaN   \n",
       "50%        NaN      NaN                         NaN       NaN   \n",
       "75%        NaN      NaN                         NaN       NaN   \n",
       "max        NaN      NaN                         NaN       NaN   \n",
       "\n",
       "       test_preparation_course  math_score  reading_score  writing_score  \n",
       "count                     1000  1000.00000    1000.000000    1000.000000  \n",
       "unique                       2         NaN            NaN            NaN  \n",
       "top                       none         NaN            NaN            NaN  \n",
       "freq                       642         NaN            NaN            NaN  \n",
       "mean                       NaN    66.08900      69.169000      68.054000  \n",
       "std                        NaN    15.16308      14.600192      15.195657  \n",
       "min                        NaN     0.00000      17.000000      10.000000  \n",
       "25%                        NaN    57.00000      59.000000      57.750000  \n",
       "50%                        NaN    66.00000      70.000000      69.000000  \n",
       "75%                        NaN    77.00000      79.000000      79.000000  \n",
       "max                        NaN   100.00000     100.000000     100.000000  "
      ]
     },
     "execution_count": 11,
     "metadata": {},
     "output_type": "execute_result"
    }
   ],
   "source": [
    "df.describe(include='all')"
   ]
  },
  {
   "cell_type": "code",
   "execution_count": 12,
   "id": "f25fff61",
   "metadata": {},
   "outputs": [],
   "source": [
    "df['mean_score'] = (df['math_score'] + df['reading_score'] + df['writing_score'])/3"
   ]
  },
  {
   "cell_type": "code",
   "execution_count": 13,
   "id": "6d52044b",
   "metadata": {},
   "outputs": [
    {
     "data": {
      "text/html": [
       "<div>\n",
       "<style scoped>\n",
       "    .dataframe tbody tr th:only-of-type {\n",
       "        vertical-align: middle;\n",
       "    }\n",
       "\n",
       "    .dataframe tbody tr th {\n",
       "        vertical-align: top;\n",
       "    }\n",
       "\n",
       "    .dataframe thead th {\n",
       "        text-align: right;\n",
       "    }\n",
       "</style>\n",
       "<table border=\"1\" class=\"dataframe\">\n",
       "  <thead>\n",
       "    <tr style=\"text-align: right;\">\n",
       "      <th></th>\n",
       "      <th>gender</th>\n",
       "      <th>income</th>\n",
       "      <th>parental_level_of_education</th>\n",
       "      <th>lunch</th>\n",
       "      <th>test_preparation_course</th>\n",
       "      <th>math_score</th>\n",
       "      <th>reading_score</th>\n",
       "      <th>writing_score</th>\n",
       "      <th>mean_score</th>\n",
       "    </tr>\n",
       "  </thead>\n",
       "  <tbody>\n",
       "    <tr>\n",
       "      <th>0</th>\n",
       "      <td>female</td>\n",
       "      <td>group B</td>\n",
       "      <td>bachelor's degree</td>\n",
       "      <td>standard</td>\n",
       "      <td>none</td>\n",
       "      <td>72</td>\n",
       "      <td>72</td>\n",
       "      <td>74</td>\n",
       "      <td>72.666667</td>\n",
       "    </tr>\n",
       "    <tr>\n",
       "      <th>1</th>\n",
       "      <td>female</td>\n",
       "      <td>group C</td>\n",
       "      <td>some college</td>\n",
       "      <td>standard</td>\n",
       "      <td>completed</td>\n",
       "      <td>69</td>\n",
       "      <td>90</td>\n",
       "      <td>88</td>\n",
       "      <td>82.333333</td>\n",
       "    </tr>\n",
       "    <tr>\n",
       "      <th>2</th>\n",
       "      <td>female</td>\n",
       "      <td>group B</td>\n",
       "      <td>master's degree</td>\n",
       "      <td>standard</td>\n",
       "      <td>none</td>\n",
       "      <td>90</td>\n",
       "      <td>95</td>\n",
       "      <td>93</td>\n",
       "      <td>92.666667</td>\n",
       "    </tr>\n",
       "    <tr>\n",
       "      <th>3</th>\n",
       "      <td>male</td>\n",
       "      <td>group A</td>\n",
       "      <td>associate's degree</td>\n",
       "      <td>free/reduced</td>\n",
       "      <td>none</td>\n",
       "      <td>47</td>\n",
       "      <td>57</td>\n",
       "      <td>44</td>\n",
       "      <td>49.333333</td>\n",
       "    </tr>\n",
       "    <tr>\n",
       "      <th>4</th>\n",
       "      <td>male</td>\n",
       "      <td>group C</td>\n",
       "      <td>some college</td>\n",
       "      <td>standard</td>\n",
       "      <td>none</td>\n",
       "      <td>76</td>\n",
       "      <td>78</td>\n",
       "      <td>75</td>\n",
       "      <td>76.333333</td>\n",
       "    </tr>\n",
       "  </tbody>\n",
       "</table>\n",
       "</div>"
      ],
      "text/plain": [
       "   gender   income parental_level_of_education         lunch  \\\n",
       "0  female  group B           bachelor's degree      standard   \n",
       "1  female  group C                some college      standard   \n",
       "2  female  group B             master's degree      standard   \n",
       "3    male  group A          associate's degree  free/reduced   \n",
       "4    male  group C                some college      standard   \n",
       "\n",
       "  test_preparation_course  math_score  reading_score  writing_score  \\\n",
       "0                    none          72             72             74   \n",
       "1               completed          69             90             88   \n",
       "2                    none          90             95             93   \n",
       "3                    none          47             57             44   \n",
       "4                    none          76             78             75   \n",
       "\n",
       "   mean_score  \n",
       "0   72.666667  \n",
       "1   82.333333  \n",
       "2   92.666667  \n",
       "3   49.333333  \n",
       "4   76.333333  "
      ]
     },
     "execution_count": 13,
     "metadata": {},
     "output_type": "execute_result"
    }
   ],
   "source": [
    "df.head()"
   ]
  },
  {
   "cell_type": "code",
   "execution_count": 14,
   "id": "8a48a078",
   "metadata": {},
   "outputs": [],
   "source": [
    "grouped_df = df.groupby(['lunch','test_preparation_course'])\n",
    "group_s_n = grouped_df.get_group(('standard','none'))\n",
    "group_s_c = grouped_df.get_group(('standard','completed'))\n",
    "group_f_n = grouped_df.get_group(('free/reduced','none'))\n",
    "group_f_c = grouped_df.get_group(('free/reduced','completed'))"
   ]
  },
  {
   "cell_type": "code",
   "execution_count": 15,
   "id": "6c38eff0",
   "metadata": {},
   "outputs": [
    {
     "data": {
      "image/png": "[encoded data removed]",
      "text/plain": [
       "<Figure size 720x432 with 4 Axes>"
      ]
     },
     "metadata": {
      "needs_background": "light"
     },
     "output_type": "display_data"
    }
   ],
   "source": [
    "f,ax=plt.subplots(2,2,figsize=(10,6))\n",
    "sns.histplot(data = group_s_n,x ='mean_score', ax = ax[0][0], color = 'red')\n",
    "ax[0][0].set_title('standard none')\n",
    "sns.histplot(data = group_s_c,x ='mean_score', ax = ax[0][1])\n",
    "ax[0][1].set_title('standard completed')\n",
    "sns.histplot(data = group_f_n,x ='mean_score', ax = ax[1][0], color = 'green')\n",
    "ax[1][0].set_title('free/reduced none')\n",
    "sns.histplot(data = group_f_c,x ='mean_score', ax = ax[1][1], color = 'yellow')\n",
    "ax[1][1].set_title('free/reduced completed')\n",
    "f.tight_layout()"
   ]
  },
  {
   "cell_type": "code",
   "execution_count": 16,
   "id": "374cd734",
   "metadata": {},
   "outputs": [],
   "source": [
    "import pylab as py\n",
    "from scipy import stats\n",
    "from scipy.stats import zscore"
   ]
  },
  {
   "cell_type": "code",
   "execution_count": 17,
   "id": "f4c8aa34",
   "metadata": {},
   "outputs": [
    {
     "data": {
      "image/png": "[encoded data removed]",
      "text/plain": [
       "<Figure size 1152x288 with 4 Axes>"
      ]
     },
     "metadata": {
      "needs_background": "light"
     },
     "output_type": "display_data"
    }
   ],
   "source": [
    "f,ax=plt.subplots(1,4,figsize=(16,4))\n",
    "sm.qqplot(zscore(group_s_n['mean_score']), line ='45', ax = ax[0]) \n",
    "sm.qqplot(zscore(group_f_n['mean_score']), line ='45', ax = ax[1])\n",
    "sm.qqplot(zscore(group_s_c['mean_score']), line ='45', ax = ax[2]) \n",
    "sm.qqplot(zscore(group_f_c['mean_score']), line ='45', ax = ax[3])\n",
    "py.show() "
   ]
  },
  {
   "cell_type": "markdown",
   "id": "f3ee7a19",
   "metadata": {},
   "source": [
    "## Проверка гипотезы о равенстве дисперсий\n",
    "H0 : Дисперсия среди каждой группы равна.<br>\n",
    "H1 : По крайней мере, одна группа имеет дисперсию, не равную остальным. <br><br>\n",
    "Уровень значимости а = 0.05"
   ]
  },
  {
   "cell_type": "markdown",
   "id": "e6cd4917",
   "metadata": {},
   "source": [
    "##### Группы разделенные по признаку : «Обед» и «Подготовительный курс» "
   ]
  },
  {
   "cell_type": "code",
   "execution_count": 38,
   "id": "78b511d4",
   "metadata": {},
   "outputs": [
    {
     "data": {
      "text/plain": [
       "BartlettResult(statistic=6.141605311197307, pvalue=0.10492042742392421)"
      ]
     },
     "execution_count": 38,
     "metadata": {},
     "output_type": "execute_result"
    }
   ],
   "source": [
    "stats.bartlett(group_s_n['mean_score'], group_f_n['mean_score'], group_s_c['mean_score'],group_f_c['mean_score'])"
   ]
  },
  {
   "cell_type": "markdown",
   "id": "777a41a1",
   "metadata": {},
   "source": [
    "__pvalue > a (0.10 > 0.05)__ <br>\n",
    "Принимается Н0 гипотеза о равенстве дисперсий в группах"
   ]
  },
  {
   "cell_type": "markdown",
   "id": "6e38977f",
   "metadata": {},
   "source": [
    "##### Группы разделенные по признаку : «Пол» "
   ]
  },
  {
   "cell_type": "code",
   "execution_count": 39,
   "id": "19eeb74f",
   "metadata": {},
   "outputs": [
    {
     "data": {
      "text/plain": [
       "BartlettResult(statistic=1.771784302598282, pvalue=0.1831614116182302)"
      ]
     },
     "execution_count": 39,
     "metadata": {},
     "output_type": "execute_result"
    }
   ],
   "source": [
    "gndrs = [x for _,x in df.groupby('gender')['mean_score']]\n",
    "stats.bartlett(gndrs[0],gndrs[1])"
   ]
  },
  {
   "cell_type": "markdown",
   "id": "baf98ce8",
   "metadata": {},
   "source": [
    "__pvalue > a (0.18 > 0.05)__ <br>\n",
    "Принимается Н0 гипотеза о равенстве дисперсий в группах"
   ]
  },
  {
   "cell_type": "markdown",
   "id": "e4811b2d",
   "metadata": {},
   "source": [
    "##### Группы разделенные по признаку : «Доходы»"
   ]
  },
  {
   "cell_type": "code",
   "execution_count": 40,
   "id": "40ae9cc0",
   "metadata": {},
   "outputs": [
    {
     "data": {
      "text/plain": [
       "BartlettResult(statistic=3.188568351064745, pvalue=0.5267793311791109)"
      ]
     },
     "execution_count": 40,
     "metadata": {},
     "output_type": "execute_result"
    }
   ],
   "source": [
    "dfs = [x for _,x in df.groupby('income')['mean_score']]\n",
    "stats.bartlett(dfs[0],dfs[1],dfs[2],dfs[3],dfs[4])"
   ]
  },
  {
   "cell_type": "markdown",
   "id": "876d8806",
   "metadata": {},
   "source": [
    "__pvalue > a (0.52 > 0.05)__ <br>\n",
    "Принимается Н0 гипотеза о равенстве дисперсий в группах"
   ]
  },
  {
   "cell_type": "markdown",
   "id": "b68219f0",
   "metadata": {},
   "source": [
    "##### Группы разделенные по признаку : «Образование родителей»"
   ]
  },
  {
   "cell_type": "code",
   "execution_count": 41,
   "id": "d71e16ea",
   "metadata": {},
   "outputs": [
    {
     "data": {
      "text/plain": [
       "BartlettResult(statistic=2.6695466937765926, pvalue=0.7507720491700818)"
      ]
     },
     "execution_count": 41,
     "metadata": {},
     "output_type": "execute_result"
    }
   ],
   "source": [
    "dfs = [x for _,x in df.groupby('parental_level_of_education')['mean_score']]\n",
    "stats.bartlett(dfs[0],dfs[1],dfs[2],dfs[3],dfs[4],dfs[5])"
   ]
  },
  {
   "cell_type": "markdown",
   "id": "9e7ac7a8",
   "metadata": {},
   "source": [
    "__pvalue > a (0.75 > 0.05)__ <br>\n",
    "Принимается Н0 гипотеза о равенстве дисперсий в группах"
   ]
  },
  {
   "cell_type": "markdown",
   "id": "512bd775",
   "metadata": {},
   "source": [
    "***"
   ]
  },
  {
   "cell_type": "markdown",
   "id": "c73a22ed",
   "metadata": {},
   "source": [
    "## Апостериорные критерии для однофакторного дисперсионного анализа\n",
    "После установки факта о различии средних в группах, чтобы ответить на вопрос какие именно средние различаются использую __критерий Тьюки__ (критерий достоверно значимой разности)."
   ]
  },
  {
   "cell_type": "markdown",
   "id": "37155516",
   "metadata": {},
   "source": [
    "##### Группы разделенные по признаку : «Образование родителей»"
   ]
  },
  {
   "cell_type": "code",
   "execution_count": 42,
   "id": "2961d60c",
   "metadata": {
    "scrolled": true
   },
   "outputs": [
    {
     "name": "stdout",
     "output_type": "stream",
     "text": [
      "            Multiple Comparison of Means - Tukey HSD, FWER=0.05             \n",
      "============================================================================\n",
      "      group1             group2      meandiff p-adj   lower    upper  reject\n",
      "----------------------------------------------------------------------------\n",
      "associate's degree bachelor's degree   2.3547 0.6743  -2.1739  6.8832  False\n",
      "associate's degree       high school  -6.4721    0.0 -10.3682 -2.5761   True\n",
      "associate's degree   master's degree   4.0298 0.3567  -1.7924   9.852  False\n",
      "associate's degree      some college  -1.0927 0.9618  -4.8488  2.6635  False\n",
      "associate's degree  some high school  -4.4611 0.0183  -8.4541  -0.468   True\n",
      " bachelor's degree       high school  -8.8268    0.0 -13.4584 -4.1952   True\n",
      " bachelor's degree   master's degree   1.6751 0.9748  -4.6629  8.0132  False\n",
      " bachelor's degree      some college  -3.4473 0.2479   -7.962  1.0673  False\n",
      " bachelor's degree  some high school  -6.8157 0.0006 -11.5293 -2.1022   True\n",
      "       high school   master's degree  10.5019    0.0   4.5992 16.4047   True\n",
      "       high school      some college   5.3795 0.0011   1.4996  9.2593   True\n",
      "       high school  some high school   2.0111 0.7288  -2.0985  6.1207  False\n",
      "   master's degree      some college  -5.1225 0.1201 -10.9339  0.6889  False\n",
      "   master's degree  some high school  -8.4909 0.0007 -14.4581 -2.5236   True\n",
      "      some college  some high school  -3.3684 0.1509  -7.3457  0.6089  False\n",
      "----------------------------------------------------------------------------\n"
     ]
    }
   ],
   "source": [
    "tukey = pairwise_tukeyhsd(endog=df['mean_score'],\n",
    " groups=df['parental_level_of_education'],\n",
    " alpha= 0.05 )\n",
    "print(tukey)"
   ]
  },
  {
   "cell_type": "markdown",
   "id": "5a4edc8c",
   "metadata": {},
   "source": [
    "##### Группы разделенные по признаку : «Доходы»"
   ]
  },
  {
   "cell_type": "code",
   "execution_count": 43,
   "id": "907baed8",
   "metadata": {},
   "outputs": [
    {
     "name": "stdout",
     "output_type": "stream",
     "text": [
      " Multiple Comparison of Means - Tukey HSD, FWER=0.05  \n",
      "======================================================\n",
      " group1  group2 meandiff p-adj   lower   upper  reject\n",
      "------------------------------------------------------\n",
      "group A group B   2.4759 0.6447 -2.4495  7.4014  False\n",
      "group A group C   4.1392 0.1006 -0.4577   8.736  False\n",
      "group A group D   6.1869 0.0031  1.4823 10.8915   True\n",
      "group A group E   9.7599    0.0  4.5614 14.9583   True\n",
      "group B group C   1.6632 0.6953 -1.8508  5.1772  False\n",
      "group B group D    3.711 0.0445  0.0571  7.3649   True\n",
      "group B group E    7.284    0.0  3.0129  11.555   True\n",
      "group C group D   2.0477 0.4036 -1.1494  5.2448  False\n",
      "group C group E   5.6207 0.0008  1.7333  9.5082   True\n",
      "group D group E    3.573 0.1076 -0.4414  7.5873  False\n",
      "------------------------------------------------------\n"
     ]
    }
   ],
   "source": [
    "tukey = pairwise_tukeyhsd(endog=df['mean_score'],\n",
    " groups=df['income'],\n",
    " alpha= 0.05 )\n",
    "print(tukey)"
   ]
  },
  {
   "cell_type": "markdown",
   "id": "71ad8fc9",
   "metadata": {},
   "source": [
    "***"
   ]
  },
  {
   "cell_type": "markdown",
   "id": "eda04b84",
   "metadata": {},
   "source": [
    "## Многофакторный дисперсионный анализ \n",
    "H0_1 : Тип обеда не влияет на средний балл учащегося.<br>\n",
    "H0_2 : Прохождение подготовительного курса не влияет на средний балл учащегося.<br>\n",
    "H0_3 : Взаимодействие факторов не влияет на средний балл учащегося.<br><br>\n",
    "Уровень значимости а = 0.05"
   ]
  },
  {
   "cell_type": "code",
   "execution_count": 44,
   "id": "246033bf",
   "metadata": {},
   "outputs": [
    {
     "data": {
      "text/html": [
       "<div>\n",
       "<style scoped>\n",
       "    .dataframe tbody tr th:only-of-type {\n",
       "        vertical-align: middle;\n",
       "    }\n",
       "\n",
       "    .dataframe tbody tr th {\n",
       "        vertical-align: top;\n",
       "    }\n",
       "\n",
       "    .dataframe thead th {\n",
       "        text-align: right;\n",
       "    }\n",
       "</style>\n",
       "<table border=\"1\" class=\"dataframe\">\n",
       "  <thead>\n",
       "    <tr style=\"text-align: right;\">\n",
       "      <th></th>\n",
       "      <th>sum_sq</th>\n",
       "      <th>df</th>\n",
       "      <th>F</th>\n",
       "      <th>PR(&gt;F)</th>\n",
       "    </tr>\n",
       "  </thead>\n",
       "  <tbody>\n",
       "    <tr>\n",
       "      <th>C(lunch)</th>\n",
       "      <td>28776.698009</td>\n",
       "      <td>1.0</td>\n",
       "      <td>148.052516</td>\n",
       "      <td>7.428461e-32</td>\n",
       "    </tr>\n",
       "    <tr>\n",
       "      <th>C(test_preparation_course)</th>\n",
       "      <td>7751.820403</td>\n",
       "      <td>1.0</td>\n",
       "      <td>39.882147</td>\n",
       "      <td>4.057922e-10</td>\n",
       "    </tr>\n",
       "    <tr>\n",
       "      <th>C(lunch):C(test_preparation_course)</th>\n",
       "      <td>68.513615</td>\n",
       "      <td>1.0</td>\n",
       "      <td>0.352494</td>\n",
       "      <td>5.528395e-01</td>\n",
       "    </tr>\n",
       "    <tr>\n",
       "      <th>Residual</th>\n",
       "      <td>193590.707144</td>\n",
       "      <td>996.0</td>\n",
       "      <td>NaN</td>\n",
       "      <td>NaN</td>\n",
       "    </tr>\n",
       "  </tbody>\n",
       "</table>\n",
       "</div>"
      ],
      "text/plain": [
       "                                            sum_sq     df           F  \\\n",
       "C(lunch)                              28776.698009    1.0  148.052516   \n",
       "C(test_preparation_course)             7751.820403    1.0   39.882147   \n",
       "C(lunch):C(test_preparation_course)      68.513615    1.0    0.352494   \n",
       "Residual                             193590.707144  996.0         NaN   \n",
       "\n",
       "                                           PR(>F)  \n",
       "C(lunch)                             7.428461e-32  \n",
       "C(test_preparation_course)           4.057922e-10  \n",
       "C(lunch):C(test_preparation_course)  5.528395e-01  \n",
       "Residual                                      NaN  "
      ]
     },
     "execution_count": 44,
     "metadata": {},
     "output_type": "execute_result"
    }
   ],
   "source": [
    "model = ols('math_score ~ C(lunch) + C(test_preparation_course) + C(lunch):C(test_preparation_course)', \n",
    "            data=df).fit()\n",
    "sm.stats.anova_lm(model, typ=2)"
   ]
  },
  {
   "cell_type": "markdown",
   "id": "408115a8",
   "metadata": {},
   "source": [
    "В первых двух случаях мы отвергаем H0 гипотезу, в третьем принимаем. __=>__"
   ]
  },
  {
   "cell_type": "markdown",
   "id": "25d17f0e",
   "metadata": {},
   "source": [
    "__Тип обеда значимо влияет на средний балл учащегося. <br>\n",
    "Прохождение подготовительного значимо курса влияет на средний балл учащегося. <br>\n",
    "Взаимодействие факторов не влияет на средний балл учащегося__"
   ]
  }
 ],
 "metadata": {
  "kernelspec": {
   "display_name": "Python 3 (ipykernel)",
   "language": "python",
   "name": "python3"
  },
  "language_info": {
   "codemirror_mode": {
    "name": "ipython",
    "version": 3
   },
   "file_extension": ".py",
   "mimetype": "text/x-python",
   "name": "python",
   "nbconvert_exporter": "python",
   "pygments_lexer": "ipython3",
   "version": "3.7.9"
  }
 },
 "nbformat": 4,
 "nbformat_minor": 5
}
